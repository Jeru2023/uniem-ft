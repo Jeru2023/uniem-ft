{
 "cells": [
  {
   "cell_type": "code",
   "execution_count": 2,
   "outputs": [],
   "source": [
    "from datasets import load_dataset\n",
    "from uniem.finetuner import FineTuner\n",
    "\n",
    "MODEL_PATH = 'models/roformer_tiny'"
   ],
   "metadata": {
    "collapsed": false,
    "ExecuteTime": {
     "end_time": "2024-05-21T15:05:09.657199300Z",
     "start_time": "2024-05-21T15:05:06.536059900Z"
    }
   },
   "id": "a4d9619600f2aae5"
  },
  {
   "cell_type": "code",
   "execution_count": 3,
   "outputs": [
    {
     "name": "stdout",
     "output_type": "stream",
     "text": [
      "{'content': '滴滤咖啡的革新和统一。星巴克研发了专用于滴滤咖啡的拼配咖啡豆，以平衡口感和酸度。门店恢复了店内咖啡豆研磨工序，现磨咖啡豆，提高咖啡的新鲜度和口味。同时，通过咖啡豆的研磨声和香味，唤醒顾客对星巴克早期的回忆，加强情感联结。引进萃取系统Clover。星巴克收购了咖啡设备制造商咖啡制造公司，引进了萃取系统Clover。Clover通过真空技术引出咖啡豆丰富的风味，适用于星巴克的异域风味咖啡豆。Clover的可视性增加了咖啡馆的氛围感。浓缩咖啡机的升级和更新。星巴克对原有的浓缩咖啡机进行了升级，并推出了新一代独家咖啡机MastrenaT。MastrenaT在口感统一性、蒸牛奶和客制化方面有更卓越的性能。机器的外观更小巧，为咖啡师和顾客提供更好的视觉联结和互动。星享卡推出奖励机制。星巴克通过加大促销力度和奖励机制，吸引更多持卡会员，增进客流量。自2001年引入预付卡体系以来，星巴克已发行超过1.9亿张预付卡，活跃持卡人数量稳定在500万左右。提升品牌与顾客情感联结。星巴克通过提供独特的店内体验，如咖啡豆的研磨声和香味，唤醒顾客对早期的回忆，加强品牌与顾客之间的情感联结。这种情感联结有助于增强顾客的黏性和忠诚度。加强竞争优势。通过升级产品设备，星巴克巩固了匠心和高品质的品牌形象，与主要竞争对手麦当劳等快餐巨头进一步差异化。这有助于提高星巴克的竞争优势，并吸引更多顾客选择星巴克。促进门店客流量。通过提供独特的店内体验和升级产品设备，星巴克吸引了更多顾客，促进了门店的客流量。这有助于改善门店的经营表现和销售额。经营层面上的改善。通过加大促销力度和奖励机制，星巴克提高了持卡会员的活跃度，增进了客流量。这种经营层面上的改善有助于提升星巴克的竞争力，与快餐巨头加大差异化，提高自身的竞争优势。', 'query': '现磨咖啡市场规模', 'score': 0}\n",
      "487\n"
     ]
    }
   ],
   "source": [
    "dataset_dict = load_dataset('csv', data_dir='./train_data')\n",
    "print(dataset_dict['train'][0])\n",
    "print(len(dataset_dict['train']))"
   ],
   "metadata": {
    "collapsed": false,
    "ExecuteTime": {
     "end_time": "2024-05-21T15:05:14.000781700Z",
     "start_time": "2024-05-21T15:05:11.565031300Z"
    }
   },
   "id": "294b4122ce8ce2a8"
  },
  {
   "cell_type": "code",
   "execution_count": 4,
   "outputs": [],
   "source": [
    "dataset = dataset_dict['train']\n",
    "dataset = dataset.rename_columns({'query': 'sentence1', 'content': 'sentence2', 'score': 'label'})"
   ],
   "metadata": {
    "collapsed": false,
    "ExecuteTime": {
     "end_time": "2024-05-21T15:05:15.516292900Z",
     "start_time": "2024-05-21T15:05:15.504284500Z"
    }
   },
   "id": "32d0086b555d3164"
  },
  {
   "cell_type": "code",
   "execution_count": 5,
   "outputs": [],
   "source": [
    "dataset = dataset.train_test_split(test_size=0.1, seed=42)\n",
    "dataset['validation'] = dataset.pop('test')"
   ],
   "metadata": {
    "collapsed": false,
    "ExecuteTime": {
     "end_time": "2024-05-21T15:05:17.561272500Z",
     "start_time": "2024-05-21T15:05:17.544272500Z"
    }
   },
   "id": "8f9420c9209802e5"
  },
  {
   "cell_type": "code",
   "execution_count": 7,
   "outputs": [
    {
     "name": "stdout",
     "output_type": "stream",
     "text": [
      "Batch size: 256\n",
      "Start with seed: 42\n",
      "Output dir: finetuned-model\n",
      "Learning rate: 0.2\n",
      "Start training for 30 epochs\n"
     ]
    },
    {
     "data": {
      "text/plain": "  0%|          | 0/2 [00:00<?, ?it/s]",
      "application/vnd.jupyter.widget-view+json": {
       "version_major": 2,
       "version_minor": 0,
       "model_id": "ef096c60dc044420a780f1aa663ecdcd"
      }
     },
     "metadata": {},
     "output_type": "display_data"
    },
    {
     "name": "stdout",
     "output_type": "stream",
     "text": [
      "Epoch 1 Validation loss: 6.6107\n"
     ]
    },
    {
     "data": {
      "text/plain": "  0%|          | 0/2 [00:00<?, ?it/s]",
      "application/vnd.jupyter.widget-view+json": {
       "version_major": 2,
       "version_minor": 0,
       "model_id": "cdd4011e69254eddbebc94d02add91f5"
      }
     },
     "metadata": {},
     "output_type": "display_data"
    },
    {
     "name": "stdout",
     "output_type": "stream",
     "text": [
      "Epoch 2 Validation loss: 6.6107\n"
     ]
    },
    {
     "data": {
      "text/plain": "  0%|          | 0/2 [00:00<?, ?it/s]",
      "application/vnd.jupyter.widget-view+json": {
       "version_major": 2,
       "version_minor": 0,
       "model_id": "162b8ad2154946f382e0f30a26d39377"
      }
     },
     "metadata": {},
     "output_type": "display_data"
    },
    {
     "name": "stdout",
     "output_type": "stream",
     "text": [
      "Epoch 3 Validation loss: 6.6107\n"
     ]
    },
    {
     "data": {
      "text/plain": "  0%|          | 0/2 [00:00<?, ?it/s]",
      "application/vnd.jupyter.widget-view+json": {
       "version_major": 2,
       "version_minor": 0,
       "model_id": "743c8b0844f148c083898f9a06c787d5"
      }
     },
     "metadata": {},
     "output_type": "display_data"
    },
    {
     "name": "stdout",
     "output_type": "stream",
     "text": [
      "Epoch 4 Validation loss: 6.6107\n"
     ]
    },
    {
     "data": {
      "text/plain": "  0%|          | 0/2 [00:00<?, ?it/s]",
      "application/vnd.jupyter.widget-view+json": {
       "version_major": 2,
       "version_minor": 0,
       "model_id": "524e32a61c79471d95f60ac547582b2c"
      }
     },
     "metadata": {},
     "output_type": "display_data"
    },
    {
     "name": "stderr",
     "output_type": "stream",
     "text": [
      "\n",
      "KeyboardInterrupt\n",
      "\n"
     ]
    }
   ],
   "source": [
    "finetuner = FineTuner.from_pretrained(MODEL_PATH, dataset=dataset)\n",
    "# model will autosaved to finetuned-model folder\n",
    "finetuned_model = finetuner.run(epochs=30, lr=0.2)"
   ],
   "metadata": {
    "collapsed": false,
    "ExecuteTime": {
     "end_time": "2024-05-21T15:29:33.415736100Z",
     "start_time": "2024-05-21T15:16:42.932542600Z"
    }
   },
   "id": "72622a0c959a1cdc"
  }
 ],
 "metadata": {
  "kernelspec": {
   "display_name": "Python 3",
   "language": "python",
   "name": "python3"
  },
  "language_info": {
   "codemirror_mode": {
    "name": "ipython",
    "version": 2
   },
   "file_extension": ".py",
   "mimetype": "text/x-python",
   "name": "python",
   "nbconvert_exporter": "python",
   "pygments_lexer": "ipython2",
   "version": "2.7.6"
  }
 },
 "nbformat": 4,
 "nbformat_minor": 5
}
